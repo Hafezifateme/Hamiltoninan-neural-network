{
 "cells": [
  {
   "cell_type": "code",
   "execution_count": 1,
   "metadata": {},
   "outputs": [],
   "source": [
    "import torch\n",
    "from torch.autograd import grad\n",
    "import numpy as np\n",
    "import matplotlib.pyplot as plt\n",
    "import scipy.integrate\n",
    "solve_ivp=scipy.integrate.solve_ivp\n",
    "from torch.autograd import Variable\n",
    "import autograd\n",
    "import autograd.numpy as np"
   ]
  },
  {
   "cell_type": "markdown",
   "metadata": {},
   "source": [
    "# Hamiltonian"
   ]
  },
  {
   "cell_type": "code",
   "execution_count": 14,
   "metadata": {},
   "outputs": [],
   "source": [
    "def Hamiltonian(y):\n",
    "    q, p = np.split(y,2)\n",
    "    H = p**2 + q**2\n",
    "    return H"
   ]
  },
  {
   "cell_type": "markdown",
   "metadata": {},
   "source": [
    "# Dynamics of Hamiltonian == gradiant of Hamiltonian"
   ]
  },
  {
   "cell_type": "code",
   "execution_count": 15,
   "metadata": {},
   "outputs": [],
   "source": [
    "def grad_Hamiltonian(t,yold):\n",
    "       \n",
    "      \n",
    "    \n",
    "    dcoords = autograd.grad(Hamiltonian)(yold)\n",
    "    dHdq, dHdp = np.split(dcoords,2)\n",
    "    S = np.concatenate([dHdp, -dHdq], axis=-1)\n",
    "    return S"
   ]
  },
  {
   "cell_type": "code",
   "execution_count": null,
   "metadata": {},
   "outputs": [],
   "source": []
  },
  {
   "cell_type": "markdown",
   "metadata": {},
   "source": [
    "# trajectory"
   ]
  },
  {
   "cell_type": "code",
   "execution_count": 16,
   "metadata": {},
   "outputs": [],
   "source": [
    "def trajectory(t,y0):\n",
    "   \n",
    "    \n",
    "    \n",
    "    noise_std=0.1\n",
    "    sol = solve_ivp(fun=grad_Hamiltonian,t_span=t,y0=y0)\n",
    "    q_new,p_new=sol.y\n",
    "    \n",
    "    dydt = [grad_Hamiltonian( None,y) for y in sol['y'].T]\n",
    "    print(dydt)\n",
    "    dydt = np.stack(dydt).T\n",
    "    dq, dp = np.split(dydt,2)\n",
    "    # add noise\n",
    "    q_new += np.random.randn(*q_new.shape)*noise_std\n",
    "    p_new += np.random.randn(*p_new.shape)*noise_std\n",
    "    return q_new,p_new,dq,dp\n",
    "    #return solve_ivp(fun=fun,t_span=t,y0=y0).y"
   ]
  },
  {
   "cell_type": "code",
   "execution_count": 17,
   "metadata": {},
   "outputs": [
    {
     "name": "stdout",
     "output_type": "stream",
     "text": [
      "[array([ 0., -2.]), array([-1.99800167e-03, -1.99999900e+00]), array([-0.02197758, -1.99987924]), array([-0.22132399, -1.9877162 ]), array([-1.37807543, -1.44941953]), array([-1.9848462,  0.2452153]), array([-0.88627751,  1.79282597]), array([0.99685612, 1.73376257]), array([1.98209662, 0.26601116]), array([ 1.29540034, -1.52361902]), array([-0.5028603 , -1.93558551]), array([-1.88223735, -0.67561684]), array([-1.59820548,  1.20207534]), array([0.01463285, 1.99971685]), array([1.68840382, 1.07162291]), array([ 1.8368361, -0.7905897]), array([ 0.45129485, -1.94812033]), array([-1.39061348, -1.43702139]), array([-1.97823313,  0.29204641]), array([-0.84570571,  1.8120273 ]), array([1.03841196, 1.70889125]), array([1.98849894, 0.21047278]), array([ 1.25173485, -1.55935747]), array([-0.56262238, -1.91879683]), array([-1.89839461, -0.62795178]), array([-1.56511601,  1.24443313]), array([0.07530838, 1.99809198]), array([1.71846148, 1.02221771]), array([ 1.81083745, -0.84783815]), array([ 0.40818649, -1.9573383 ]), array([-1.42318931, -1.40439381]), array([-1.96984113,  0.34261037]), array([-0.80448189,  1.83041479]), array([1.07950393, 1.68292422]), array([1.99334026, 0.15485313]), array([ 1.20757342, -1.5934743 ]), array([-0.62103617, -1.90042203]), array([-1.91277428, -0.58178107]), array([-1.53234815,  1.28415961]), array([0.13315255, 1.99481159]), array([1.74539786, 0.97497614]), array([ 1.78480147, -0.90078049]), array([ 0.36892744, -1.96484882]), array([-1.45183687, -1.37437673]), array([-1.96117907,  0.38780035]), array([-0.76773896,  1.84584207]), array([1.11517006, 1.65918956]), array([1.99627527, 0.10594957]), array([ 1.16841749, -1.62208164]), array([-0.67119288, -1.88301622]), array([-1.92401166, -0.54249482]), array([-1.50392722,  1.31693246]), array([0.1816313 , 1.99072071]), array([1.76667438, 0.93530906]), array([ 1.76207951, -0.94390276]), array([ 0.33481813, -1.9706809 ]), array([-1.47589714, -1.34811696]), array([-1.95289781,  0.42632927]), array([-0.73650064,  1.85824326]), array([1.14478091, 1.63857872]), array([1.99777013, 0.06486436]), array([ 1.13530615, -1.64510768]), array([-0.71244968, -1.86751743]), array([-1.93248888, -0.51044421]), array([-1.48038494,  1.34295098]), array([0.22065876, 1.98650974]), array([1.78293574, 0.9033426 ]), array([ 1.74320874, -0.97777843]), array([ 0.29023287, -1.97747439]), array([-1.50637684, -1.31357381]), array([-1.94116448,  0.4758233 ]), array([-0.69659232,  1.87328833]), array([1.18179333, 1.61176368]), array([1.99852025, 0.01296347]), array([ 1.09330555, -1.67300261]), array([-0.76346116, -1.846969  ]), array([-1.94214935, -0.4712441 ]), array([-1.45125361,  1.37399874]), array([0.26778542, 1.98044426]), array([1.80165479, 0.86479867]), array([ 1.71988656, -1.01772882]), array([ 0.23713485, -1.98427952]), array([-1.54128075, -1.27203006]), array([-1.9258192 ,  0.53358554]), array([-0.65034239,  1.88956499]), array([1.22350534, 1.58000295]), array([ 1.99776511, -0.04634495]), array([ 1.04510206, -1.70322453]), array([-0.82021141, -1.82219236]), array([-1.95182009, -0.4282103 ]), array([-1.41886691,  1.40704692]), array([0.31869428, 1.97262826]), array([1.82072919, 0.82324476]), array([ 1.69404704, -1.0596896 ]), array([ 0.18068769, -1.98995223]), array([-1.57671194, -1.22741458]), array([-1.90791607,  0.59356242]), array([-0.6027279 ,  1.90501216]), array([1.26510871, 1.5465548 ]), array([ 1.99520522, -0.10645124]), array([ 0.99607536, -1.73205143]), array([-0.87602338, -1.79573883]), array([-1.96023439, -0.38652002]), array([-1.38713265,  1.43797833]), array([0.36711692, 1.96392787]), array([1.83775899, 0.78382244]), array([ 1.66887326, -1.09843243]), array([ 0.12788701, -1.99378063]), array([-1.60828966, -1.1852971 ]), array([-1.88973843,  0.64831531]), array([-0.55966059,  1.91783256]), array([1.30155402, 1.51566603]), array([ 1.99136766, -0.15996902]), array([ 0.95231917, -1.75619165]), array([-0.92425568, -1.77110281]), array([-1.96663215, -0.35103269]), array([-1.35988744,  1.46341264]), array([0.40756537, 1.95566713]), array([1.85113856, 0.75097842]), array([ 1.64740871, -1.12990597]), array([ 0.08445373, -1.99583028]), array([-1.63311868, -1.15039193]), array([-1.87377178,  0.69235964]), array([-0.52530825,  1.92725188]), array([1.32979017, 1.49060233]), array([ 1.98727537, -0.20205588]), array([ 0.91785691, -1.77414997]), array([-0.96119963, -1.75102894]), array([-1.97308466, -0.31105552]), array([-1.32902533,  1.4911461 ]), array([0.45229241, 1.94554217]), array([1.86511759, 0.71481999]), array([ 1.6233226 , -1.16379559]), array([ 0.03717572, -1.99700932]), array([-1.65904542, -1.11220573]), array([-1.8554702 ,  0.73930612]), array([-0.48904641,  1.93649959]), array([1.35885192, 1.46380023]), array([ 1.98206233, -0.24591782]), array([ 0.88195826, -1.79197334]), array([-0.99879959, -1.72955509]), array([-1.98002292, -0.26131519]), array([-1.29028283,  1.52445228]), array([0.50691867, 1.93176126]), array([1.88107104, 0.67093569]), array([ 1.59348501, -1.20389342]), array([-0.0194677 , -1.99700061]), array([-1.68863627, -1.06625471]), array([-1.83236923,  0.79418583]), array([-0.44717288,  1.94632597]), array([1.39147319, 1.43246206]), array([ 1.97496665, -0.29582735]), array([ 0.84118037, -1.81118348]), array([-1.04046951, -1.70450622]), array([-1.98632275, -0.20557019]), array([-1.24641841,  1.56018826]), array([0.5667875 , 1.91478154]), array([1.89713835, 0.62321893]), array([ 1.56029807, -1.24618723]), array([-0.0801309 , -1.99522769]), array([-1.71853889, -1.01684517]), array([-1.80626487,  0.85128191]), array([-0.40423223,  1.95542759]), array([1.42383076, 1.39993121]), array([ 1.96651215, -0.3461189 ]), array([ 0.80018741, -1.82937726]), array([-1.08124066, -1.67862846]), array([-1.99100478, -0.15032595]), array([-1.20252223,  1.59394076]), array([0.62469133, 1.89640826]), array([1.91128161, 0.57748604]), array([ 1.52778581, -1.28543401]), array([-0.13735277, -1.99184619]), array([-1.74505188, -0.97010293]), array([-1.78041445,  0.90352667]), array([-0.36553853,  1.96276181]), array([1.4519859, 1.3703258]), array([ 1.9578987 , -0.39058931]), array([ 0.7640374 , -1.84448291]), array([-1.11625891, -1.65523263]), array([-1.99378994, -0.10226162]), array([-1.16401487,  1.62195346]), array([0.67389722, 1.87920956]), array([1.92222445, 0.53897132]), array([ 1.49988414, -1.31748684]), array([-0.18482432, -1.98774127]), array([-1.76579188, -0.93125534]), array([-1.75810024,  0.94566207]), array([-0.33042721,  1.96871065]), array([1.47668351, 1.34328518]), array([ 1.94931443, -0.4301838 ]), array([ 0.73195096, -1.85716625]), array([-1.14661756, -1.6340287 ]), array([-1.99524423, -0.06010181]), array([-1.130025  ,  1.64549734]), array([0.71615457, 1.86323589]), array([1.93084745, 0.50617521]), array([ 1.47576895, -1.34405428]), array([-0.22471556, -1.98336431]), array([-1.78234412, -0.89858573]), array([-1.73877121,  0.98021522]), array([-0.28491204,  1.97554698]), array([1.50769088, 1.30798943]), array([ 1.93722864, -0.48061867]), array([ 0.69130924, -1.87239476]), array([-1.18421525, -1.60666521]), array([-1.99587571, -0.0073148 ]), array([-1.08728863,  1.67373234]), array([0.7679106 , 1.84222783]), array([1.94055666, 0.46645114]), array([ 1.6806443, -1.0763723])]\n"
     ]
    },
    {
     "data": {
      "text/plain": [
       "(-1.3480356574509746,\n",
       " 1.2411832588898044,\n",
       " -1.3157551956296027,\n",
       " 1.270740684349343)"
      ]
     },
     "execution_count": 17,
     "metadata": {},
     "output_type": "execute_result"
    },
    {
     "data": {
      "image/png": "[encoded data removed]",
      "text/plain": [
       "<Figure size 432x288 with 1 Axes>"
      ]
     },
     "metadata": {
      "needs_background": "light"
     },
     "output_type": "display_data"
    }
   ],
   "source": [
    "y0=np.array([1.,0.])\n",
    "t=[0,100]\n",
    "q_new,p_new,dq,dp=trajectory(t,y0)\n",
    "plt.scatter(q_new,p_new)\n",
    "plt.axis(\"scaled\")\n"
   ]
  },
  {
   "cell_type": "code",
   "execution_count": null,
   "metadata": {},
   "outputs": [],
   "source": []
  },
  {
   "cell_type": "code",
   "execution_count": null,
   "metadata": {},
   "outputs": [],
   "source": []
  },
  {
   "cell_type": "code",
   "execution_count": null,
   "metadata": {},
   "outputs": [],
   "source": []
  },
  {
   "cell_type": "code",
   "execution_count": null,
   "metadata": {},
   "outputs": [],
   "source": []
  },
  {
   "cell_type": "code",
   "execution_count": 18,
   "metadata": {},
   "outputs": [],
   "source": [
    "def get_dataset(seed=0, samples=50, test_split=0.5):\n",
    "    data = {'meta': locals()}\n",
    "\n",
    "    # randomly sample inputs\n",
    "    np.random.seed(seed)\n",
    "    xs, dxs = [], []\n",
    "    for s in range(samples):\n",
    "        q, p, dq, dp = get_trajectory()\n",
    "        xs.append( np.stack( [q, p]).T )\n",
    "        dxs.append( np.stack( [dq, dp]).T )\n",
    "        \n",
    "    data['q&p'] = np.concatenate(xs)\n",
    "    data['dq&dp'] = np.concatenate(dxs).squeeze()\n",
    "\n",
    "    # make a train/test split\n",
    "    split_ix = int(len(data['q&p']) * test_split)\n",
    "    split_data = {}\n",
    "    for k in ['q&p', 'dq&dp']:\n",
    "        split_data[k], split_data['test_' + k] = data[k][:split_ix], data[k][split_ix:]\n",
    "    data = split_data\n",
    "    return data\n"
   ]
  },
  {
   "cell_type": "markdown",
   "metadata": {},
   "source": [
    "# Run analizis"
   ]
  },
  {
   "cell_type": "code",
   "execution_count": 12,
   "metadata": {},
   "outputs": [
    {
     "ename": "TypeError",
     "evalue": "cannot unpack non-iterable NoneType object",
     "output_type": "error",
     "traceback": [
      "\u001b[1;31m---------------------------------------------------------------------------\u001b[0m",
      "\u001b[1;31mTypeError\u001b[0m                                 Traceback (most recent call last)",
      "\u001b[1;32m<ipython-input-12-d0e75eb20aa3>\u001b[0m in \u001b[0;36m<module>\u001b[1;34m\u001b[0m\n\u001b[0;32m      2\u001b[0m \u001b[0my0\u001b[0m\u001b[1;33m=\u001b[0m\u001b[0mnp\u001b[0m\u001b[1;33m.\u001b[0m\u001b[0marray\u001b[0m\u001b[1;33m(\u001b[0m\u001b[1;33m[\u001b[0m\u001b[1;36m1.\u001b[0m\u001b[1;33m,\u001b[0m\u001b[1;36m0.\u001b[0m\u001b[1;33m]\u001b[0m\u001b[1;33m)\u001b[0m\u001b[1;33m\u001b[0m\u001b[1;33m\u001b[0m\u001b[0m\n\u001b[0;32m      3\u001b[0m \u001b[0mt\u001b[0m\u001b[1;33m=\u001b[0m\u001b[1;33m[\u001b[0m\u001b[1;36m0\u001b[0m\u001b[1;33m,\u001b[0m\u001b[1;36m100\u001b[0m\u001b[1;33m]\u001b[0m\u001b[1;33m\u001b[0m\u001b[1;33m\u001b[0m\u001b[0m\n\u001b[1;32m----> 4\u001b[1;33m \u001b[0mq_new\u001b[0m\u001b[1;33m,\u001b[0m\u001b[0mp_new\u001b[0m\u001b[1;33m,\u001b[0m\u001b[0mdq\u001b[0m\u001b[1;33m,\u001b[0m\u001b[0mdp\u001b[0m\u001b[1;33m=\u001b[0m\u001b[0mtrajectory\u001b[0m\u001b[1;33m(\u001b[0m\u001b[0mt\u001b[0m\u001b[1;33m,\u001b[0m\u001b[0my0\u001b[0m\u001b[1;33m)\u001b[0m\u001b[1;33m\u001b[0m\u001b[1;33m\u001b[0m\u001b[0m\n\u001b[0m\u001b[0;32m      5\u001b[0m \u001b[0mplt\u001b[0m\u001b[1;33m.\u001b[0m\u001b[0mscatter\u001b[0m\u001b[1;33m(\u001b[0m\u001b[0mq_new\u001b[0m\u001b[1;33m,\u001b[0m\u001b[0mp_new\u001b[0m\u001b[1;33m)\u001b[0m\u001b[1;33m\u001b[0m\u001b[1;33m\u001b[0m\u001b[0m\n\u001b[0;32m      6\u001b[0m \u001b[0mplt\u001b[0m\u001b[1;33m.\u001b[0m\u001b[0maxis\u001b[0m\u001b[1;33m(\u001b[0m\u001b[1;34m\"scaled\"\u001b[0m\u001b[1;33m)\u001b[0m\u001b[1;33m\u001b[0m\u001b[1;33m\u001b[0m\u001b[0m\n",
      "\u001b[1;32m<ipython-input-11-6a25cffdb51a>\u001b[0m in \u001b[0;36mtrajectory\u001b[1;34m(t, y0)\u001b[0m\n\u001b[0;32m     16\u001b[0m     \u001b[0mq_new\u001b[0m\u001b[1;33m,\u001b[0m\u001b[0mp_new\u001b[0m\u001b[1;33m=\u001b[0m\u001b[0msol\u001b[0m\u001b[1;33m.\u001b[0m\u001b[0my\u001b[0m\u001b[1;33m\u001b[0m\u001b[1;33m\u001b[0m\u001b[0m\n\u001b[0;32m     17\u001b[0m     \u001b[0my_new\u001b[0m\u001b[1;33m=\u001b[0m\u001b[0mtorch\u001b[0m\u001b[1;33m.\u001b[0m\u001b[0mtensor\u001b[0m\u001b[1;33m(\u001b[0m\u001b[0msol\u001b[0m\u001b[1;33m.\u001b[0m\u001b[0my\u001b[0m\u001b[1;33m,\u001b[0m\u001b[0mrequires_grad\u001b[0m\u001b[1;33m=\u001b[0m\u001b[1;32mTrue\u001b[0m\u001b[1;33m,\u001b[0m\u001b[0mdtype\u001b[0m\u001b[1;33m=\u001b[0m\u001b[0mtorch\u001b[0m\u001b[1;33m.\u001b[0m\u001b[0mfloat32\u001b[0m\u001b[1;33m)\u001b[0m\u001b[1;33m\u001b[0m\u001b[1;33m\u001b[0m\u001b[0m\n\u001b[1;32m---> 18\u001b[1;33m     \u001b[0mdydt\u001b[0m \u001b[1;33m=\u001b[0m \u001b[1;33m[\u001b[0m\u001b[0mgrad_Hamiltonian\u001b[0m\u001b[1;33m(\u001b[0m \u001b[0my\u001b[0m\u001b[1;33m)\u001b[0m \u001b[1;32mfor\u001b[0m \u001b[0my\u001b[0m \u001b[1;32min\u001b[0m \u001b[0my_new\u001b[0m\u001b[1;33m.\u001b[0m\u001b[0mT\u001b[0m\u001b[1;33m]\u001b[0m\u001b[1;33m\u001b[0m\u001b[1;33m\u001b[0m\u001b[0m\n\u001b[0m\u001b[0;32m     19\u001b[0m     \u001b[0mdydt\u001b[0m \u001b[1;33m=\u001b[0m \u001b[0mnp\u001b[0m\u001b[1;33m.\u001b[0m\u001b[0mstack\u001b[0m\u001b[1;33m(\u001b[0m\u001b[0mdydt\u001b[0m\u001b[1;33m)\u001b[0m\u001b[1;33m.\u001b[0m\u001b[0mT\u001b[0m\u001b[1;33m\u001b[0m\u001b[1;33m\u001b[0m\u001b[0m\n\u001b[0;32m     20\u001b[0m     \u001b[0mdq\u001b[0m\u001b[1;33m,\u001b[0m \u001b[0mdp\u001b[0m \u001b[1;33m=\u001b[0m \u001b[0mnp\u001b[0m\u001b[1;33m.\u001b[0m\u001b[0msplit\u001b[0m\u001b[1;33m(\u001b[0m\u001b[0mdydt\u001b[0m\u001b[1;33m,\u001b[0m\u001b[1;36m2\u001b[0m\u001b[1;33m)\u001b[0m\u001b[1;33m\u001b[0m\u001b[1;33m\u001b[0m\u001b[0m\n",
      "\u001b[1;32m<ipython-input-11-6a25cffdb51a>\u001b[0m in \u001b[0;36m<listcomp>\u001b[1;34m(.0)\u001b[0m\n\u001b[0;32m     16\u001b[0m     \u001b[0mq_new\u001b[0m\u001b[1;33m,\u001b[0m\u001b[0mp_new\u001b[0m\u001b[1;33m=\u001b[0m\u001b[0msol\u001b[0m\u001b[1;33m.\u001b[0m\u001b[0my\u001b[0m\u001b[1;33m\u001b[0m\u001b[1;33m\u001b[0m\u001b[0m\n\u001b[0;32m     17\u001b[0m     \u001b[0my_new\u001b[0m\u001b[1;33m=\u001b[0m\u001b[0mtorch\u001b[0m\u001b[1;33m.\u001b[0m\u001b[0mtensor\u001b[0m\u001b[1;33m(\u001b[0m\u001b[0msol\u001b[0m\u001b[1;33m.\u001b[0m\u001b[0my\u001b[0m\u001b[1;33m,\u001b[0m\u001b[0mrequires_grad\u001b[0m\u001b[1;33m=\u001b[0m\u001b[1;32mTrue\u001b[0m\u001b[1;33m,\u001b[0m\u001b[0mdtype\u001b[0m\u001b[1;33m=\u001b[0m\u001b[0mtorch\u001b[0m\u001b[1;33m.\u001b[0m\u001b[0mfloat32\u001b[0m\u001b[1;33m)\u001b[0m\u001b[1;33m\u001b[0m\u001b[1;33m\u001b[0m\u001b[0m\n\u001b[1;32m---> 18\u001b[1;33m     \u001b[0mdydt\u001b[0m \u001b[1;33m=\u001b[0m \u001b[1;33m[\u001b[0m\u001b[0mgrad_Hamiltonian\u001b[0m\u001b[1;33m(\u001b[0m \u001b[0my\u001b[0m\u001b[1;33m)\u001b[0m \u001b[1;32mfor\u001b[0m \u001b[0my\u001b[0m \u001b[1;32min\u001b[0m \u001b[0my_new\u001b[0m\u001b[1;33m.\u001b[0m\u001b[0mT\u001b[0m\u001b[1;33m]\u001b[0m\u001b[1;33m\u001b[0m\u001b[1;33m\u001b[0m\u001b[0m\n\u001b[0m\u001b[0;32m     19\u001b[0m     \u001b[0mdydt\u001b[0m \u001b[1;33m=\u001b[0m \u001b[0mnp\u001b[0m\u001b[1;33m.\u001b[0m\u001b[0mstack\u001b[0m\u001b[1;33m(\u001b[0m\u001b[0mdydt\u001b[0m\u001b[1;33m)\u001b[0m\u001b[1;33m.\u001b[0m\u001b[0mT\u001b[0m\u001b[1;33m\u001b[0m\u001b[1;33m\u001b[0m\u001b[0m\n\u001b[0;32m     20\u001b[0m     \u001b[0mdq\u001b[0m\u001b[1;33m,\u001b[0m \u001b[0mdp\u001b[0m \u001b[1;33m=\u001b[0m \u001b[0mnp\u001b[0m\u001b[1;33m.\u001b[0m\u001b[0msplit\u001b[0m\u001b[1;33m(\u001b[0m\u001b[0mdydt\u001b[0m\u001b[1;33m,\u001b[0m\u001b[1;36m2\u001b[0m\u001b[1;33m)\u001b[0m\u001b[1;33m\u001b[0m\u001b[1;33m\u001b[0m\u001b[0m\n",
      "\u001b[1;32m<ipython-input-3-47b80051b03b>\u001b[0m in \u001b[0;36mgrad_Hamiltonian\u001b[1;34m(yold)\u001b[0m\n\u001b[0;32m      3\u001b[0m     \u001b[0mHamiltonian\u001b[0m \u001b[1;33m=\u001b[0m \u001b[0myold\u001b[0m\u001b[1;33m.\u001b[0m\u001b[0mpow\u001b[0m\u001b[1;33m(\u001b[0m\u001b[1;36m2\u001b[0m\u001b[1;33m)\u001b[0m\u001b[1;33m.\u001b[0m\u001b[0msum\u001b[0m\u001b[1;33m(\u001b[0m\u001b[1;33m)\u001b[0m\u001b[1;33m\u001b[0m\u001b[1;33m\u001b[0m\u001b[0m\n\u001b[0;32m      4\u001b[0m     \u001b[0mHamiltonian\u001b[0m\u001b[1;33m.\u001b[0m\u001b[0mbackward\u001b[0m\u001b[1;33m(\u001b[0m\u001b[1;33m)\u001b[0m\u001b[1;33m\u001b[0m\u001b[1;33m\u001b[0m\u001b[0m\n\u001b[1;32m----> 5\u001b[1;33m     \u001b[0mdH_dq\u001b[0m\u001b[1;33m,\u001b[0m\u001b[0mdH_dp\u001b[0m\u001b[1;33m=\u001b[0m\u001b[0myold\u001b[0m\u001b[1;33m.\u001b[0m\u001b[0mgrad\u001b[0m\u001b[1;33m\u001b[0m\u001b[1;33m\u001b[0m\u001b[0m\n\u001b[0m\u001b[0;32m      6\u001b[0m     \u001b[0mdq_dt\u001b[0m\u001b[1;33m=\u001b[0m\u001b[0mdH_dp\u001b[0m\u001b[1;33m\u001b[0m\u001b[1;33m\u001b[0m\u001b[0m\n\u001b[0;32m      7\u001b[0m     \u001b[0mdp_dt\u001b[0m\u001b[1;33m=\u001b[0m\u001b[1;33m-\u001b[0m\u001b[0mdH_dq\u001b[0m\u001b[1;33m\u001b[0m\u001b[1;33m\u001b[0m\u001b[0m\n",
      "\u001b[1;31mTypeError\u001b[0m: cannot unpack non-iterable NoneType object"
     ]
    }
   ],
   "source": [
    "#y0=torch.tensor([[1., 0.], [1., -1.]], requires_grad=True)\n",
    "y0=np.array([1.,0.])\n",
    "t=[0,100]\n",
    "q_new,p_new,dq,dp=trajectory(t,y0)\n",
    "plt.scatter(q_new,p_new)\n",
    "plt.axis(\"scaled\")\n"
   ]
  },
  {
   "cell_type": "code",
   "execution_count": null,
   "metadata": {},
   "outputs": [],
   "source": [
    "\n"
   ]
  },
  {
   "cell_type": "code",
   "execution_count": null,
   "metadata": {},
   "outputs": [],
   "source": []
  },
  {
   "cell_type": "code",
   "execution_count": null,
   "metadata": {},
   "outputs": [],
   "source": []
  }
 ],
 "metadata": {
  "kernelspec": {
   "display_name": "Python 3",
   "language": "python",
   "name": "python3"
  },
  "language_info": {
   "codemirror_mode": {
    "name": "ipython",
    "version": 3
   },
   "file_extension": ".py",
   "mimetype": "text/x-python",
   "name": "python",
   "nbconvert_exporter": "python",
   "pygments_lexer": "ipython3",
   "version": "3.8.5"
  }
 },
 "nbformat": 4,
 "nbformat_minor": 4
}
